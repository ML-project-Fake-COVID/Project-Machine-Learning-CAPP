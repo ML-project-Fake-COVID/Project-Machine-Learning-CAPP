{
 "cells": [
  {
   "cell_type": "markdown",
   "metadata": {},
   "source": [
    "The following datasets are available:\n",
    "\n",
    "1. Profile Information on Users/Bots Classification \n",
    "2. Profile Information on Users who Tweeted about COVID\n",
    "3. COVID-related tweets\n",
    "4. COVID-user classified to human or bot\n",
    "\n"
   ]
  },
  {
   "cell_type": "code",
   "execution_count": 469,
   "metadata": {},
   "outputs": [],
   "source": [
    "import pandas as pd\n",
    "import matplotlib.pyplot as plt\n",
    "from datetime import datetime\n",
    "import numpy as np\n",
    "%matplotlib inline\n",
    "from collections import Counter\n",
    "plt.rcParams[\"figure.figsize\"] = [10, 7]\n",
    "import warnings\n",
    "warnings.filterwarnings(\"ignore\")"
   ]
  },
  {
   "cell_type": "code",
   "execution_count": 292,
   "metadata": {},
   "outputs": [
    {
     "name": "stdout",
     "output_type": "stream",
     "text": [
      "showing info https://raw.githubusercontent.com/nltk/nltk_data/gh-pages/index.xml\n"
     ]
    },
    {
     "data": {
      "text/plain": [
       "True"
      ]
     },
     "execution_count": 292,
     "metadata": {},
     "output_type": "execute_result"
    }
   ],
   "source": [
    "import nltk\n",
    "import ssl\n",
    "\n",
    "try:\n",
    "    _create_unverified_https_context = ssl._create_unverified_context\n",
    "except AttributeError:\n",
    "    pass\n",
    "else:\n",
    "    ssl._create_default_https_context = _create_unverified_https_context\n",
    "\n",
    "nltk.download()"
   ]
  },
  {
   "cell_type": "code",
   "execution_count": 295,
   "metadata": {},
   "outputs": [],
   "source": [
    "from nltk.corpus import stopwords"
   ]
  },
  {
   "cell_type": "code",
   "execution_count": 306,
   "metadata": {},
   "outputs": [
    {
     "name": "stdout",
     "output_type": "stream",
     "text": [
      "User Bots Dimensions (63264, 17)\n",
      "COVID-related User Information (22998, 20)\n",
      "COVID-related Tweets (626206, 22)\n"
     ]
    }
   ],
   "source": [
    "user_bots = pd.read_csv(\"../data_consolidation/consolidated_version2.csv\")\n",
    "print(\"User Bots Dimensions\", user_bots.shape)\n",
    "covid_user = pd.read_csv(\"../data_consolidation/covid_user_info.csv\", lineterminator='\\n')\n",
    "print(\"COVID-related User Information\", covid_user.shape)\n",
    "covid_tweets = pd.read_csv(\"../data_consolidation/2020-03-18 Coronavirus Tweets.CSV\")\n",
    "print(\"COVID-related Tweets\", covid_tweets.shape)"
   ]
  },
  {
   "cell_type": "code",
   "execution_count": 399,
   "metadata": {},
   "outputs": [
    {
     "name": "stdout",
     "output_type": "stream",
     "text": [
      "COVID-user classified (15489, 10)\n"
     ]
    }
   ],
   "source": [
    "covid_user_lab = pd.read_csv(\"../Exploring-Features/COVID_prediction.csv\")\n",
    "print(\"COVID-user classified\", covid_user_lab.shape)"
   ]
  },
  {
   "cell_type": "code",
   "execution_count": 108,
   "metadata": {},
   "outputs": [],
   "source": [
    "user_bots.drop(columns=['Unnamed: 0'], inplace=True)\n",
    "covid_user.drop(columns=['Unnamed: 0'], inplace=True)\n",
    "#covid_tweets.drop(columns=['Unnamed: 0'], inplace=True)"
   ]
  },
  {
   "cell_type": "code",
   "execution_count": null,
   "metadata": {},
   "outputs": [],
   "source": []
  },
  {
   "cell_type": "markdown",
   "metadata": {},
   "source": [
    "## Looking at the Bots/User classified dataset."
   ]
  },
  {
   "cell_type": "code",
   "execution_count": 109,
   "metadata": {},
   "outputs": [
    {
     "data": {
      "text/plain": [
       "midterm_18                50538\n",
       "social_spambots2           3457\n",
       "gilani_2017                2503\n",
       "verified_2019              1987\n",
       "traditional_spambots_4     1128\n",
       "traditional_spambots_1     1000\n",
       "social_spambots1            991\n",
       "cresci-rtbust-2019          693\n",
       "social_spambots3            464\n",
       "traditional_spambots_3      403\n",
       "traditional_spambots_2      100\n",
       "Name: source, dtype: int64"
      ]
     },
     "execution_count": 109,
     "metadata": {},
     "output_type": "execute_result"
    }
   ],
   "source": [
    "user_bots.source.value_counts()"
   ]
  },
  {
   "cell_type": "code",
   "execution_count": 117,
   "metadata": {},
   "outputs": [
    {
     "data": {
      "text/plain": [
       "<matplotlib.axes._subplots.AxesSubplot at 0x13e8fe590>"
      ]
     },
     "execution_count": 117,
     "metadata": {},
     "output_type": "execute_result"
    },
    {
     "data": {
      "image/png": "[encoded data removed]",
      "text/plain": [
       "<Figure size 720x504 with 1 Axes>"
      ]
     },
     "metadata": {
      "needs_background": "light"
     },
     "output_type": "display_data"
    }
   ],
   "source": [
    "count = user_bots.bot.value_counts().reset_index()\n",
    "count.plot(x='index', y='bot', kind='bar', legend=False)\n"
   ]
  },
  {
   "cell_type": "code",
   "execution_count": 118,
   "metadata": {},
   "outputs": [
    {
     "data": {
      "text/plain": [
       "Index(['id', 'bot', 'description', 'probe_timestamp', 'created_at', 'lang',\n",
       "       'protected', 'verified', 'geo_enabled', 'default_profile',\n",
       "       'followers_count', 'friends_count', 'listed_count', 'favourites_count',\n",
       "       'statuses_count', 'source'],\n",
       "      dtype='object')"
      ]
     },
     "execution_count": 118,
     "metadata": {},
     "output_type": "execute_result"
    }
   ],
   "source": [
    "user_bots.columns"
   ]
  },
  {
   "cell_type": "markdown",
   "metadata": {},
   "source": [
    "Average Number of Statuses by Bot Classification:"
   ]
  },
  {
   "cell_type": "code",
   "execution_count": 155,
   "metadata": {},
   "outputs": [
    {
     "data": {
      "text/plain": [
       "bot\n",
       "bot       3843.206680\n",
       "human    20338.741633\n",
       "Name: statuses_count, dtype: float64"
      ]
     },
     "execution_count": 155,
     "metadata": {},
     "output_type": "execute_result"
    }
   ],
   "source": [
    "user_bots.groupby('bot')['statuses_count'].mean()"
   ]
  },
  {
   "cell_type": "markdown",
   "metadata": {},
   "source": [
    "Average Number of Followers and Friends by Bot Classification:"
   ]
  },
  {
   "cell_type": "code",
   "execution_count": 158,
   "metadata": {},
   "outputs": [
    {
     "data": {
      "text/plain": [
       "bot\n",
       "bot       19041.989154\n",
       "human    203560.846941\n",
       "Name: followers_count, dtype: float64"
      ]
     },
     "execution_count": 158,
     "metadata": {},
     "output_type": "execute_result"
    }
   ],
   "source": [
    "user_bots.groupby('bot')['followers_count'].mean()"
   ]
  },
  {
   "cell_type": "code",
   "execution_count": 159,
   "metadata": {},
   "outputs": [
    {
     "data": {
      "text/plain": [
       "bot\n",
       "bot       776.796692\n",
       "human    3219.274594\n",
       "Name: friends_count, dtype: float64"
      ]
     },
     "execution_count": 159,
     "metadata": {},
     "output_type": "execute_result"
    }
   ],
   "source": [
    "user_bots.groupby('bot')['friends_count'].mean()"
   ]
  },
  {
   "cell_type": "markdown",
   "metadata": {},
   "source": [
    "Visualizing dates when accounts were created"
   ]
  },
  {
   "cell_type": "code",
   "execution_count": 239,
   "metadata": {},
   "outputs": [],
   "source": [
    "user_bots['datetime'] = pd.to_datetime(user_bots[user_bots['source']!= 'traditional_spambots_1'].created_at)"
   ]
  },
  {
   "cell_type": "markdown",
   "metadata": {},
   "source": [
    "## Looking at the Covid-related User dataset"
   ]
  },
  {
   "cell_type": "markdown",
   "metadata": {},
   "source": [
    "Followers Summary"
   ]
  },
  {
   "cell_type": "code",
   "execution_count": 263,
   "metadata": {},
   "outputs": [
    {
     "data": {
      "text/plain": [
       "count    2.299800e+04\n",
       "mean     2.187226e+04\n",
       "std      3.771802e+05\n",
       "min      0.000000e+00\n",
       "25%      1.280000e+02\n",
       "50%      5.390000e+02\n",
       "75%      2.337500e+03\n",
       "max      2.194947e+07\n",
       "Name: followers, dtype: float64"
      ]
     },
     "execution_count": 263,
     "metadata": {},
     "output_type": "execute_result"
    }
   ],
   "source": [
    "covid_user.followers.describe()"
   ]
  },
  {
   "cell_type": "markdown",
   "metadata": {},
   "source": [
    "Friends (Following) Summary"
   ]
  },
  {
   "cell_type": "code",
   "execution_count": 265,
   "metadata": {},
   "outputs": [
    {
     "data": {
      "text/plain": [
       "count     22998.000000\n",
       "mean       1909.240543\n",
       "std        9477.853939\n",
       "min           0.000000\n",
       "25%         212.000000\n",
       "50%         603.000000\n",
       "75%        1623.000000\n",
       "max      659861.000000\n",
       "Name: following, dtype: float64"
      ]
     },
     "execution_count": 265,
     "metadata": {},
     "output_type": "execute_result"
    }
   ],
   "source": [
    "covid_user.following.describe()"
   ]
  },
  {
   "cell_type": "code",
   "execution_count": 268,
   "metadata": {},
   "outputs": [
    {
     "data": {
      "text/plain": [
       "Index(['avatar', 'background_image', 'bio', 'followers', 'following',\n",
       "       'join_date', 'join_datetime', 'join_time', 'likes', 'location', 'media',\n",
       "       'name', 'private', 'retrieved_info', 'tweets', 'url', 'user_id',\n",
       "       'username', 'verified'],\n",
       "      dtype='object')"
      ]
     },
     "execution_count": 268,
     "metadata": {},
     "output_type": "execute_result"
    }
   ],
   "source": [
    "covid_user.columns"
   ]
  },
  {
   "cell_type": "markdown",
   "metadata": {},
   "source": [
    "Basic Analysis of Twitter Bios:"
   ]
  },
  {
   "cell_type": "code",
   "execution_count": 458,
   "metadata": {},
   "outputs": [
    {
     "data": {
      "text/plain": [
       "<matplotlib.axes._subplots.AxesSubplot at 0x187d033d0>"
      ]
     },
     "execution_count": 458,
     "metadata": {},
     "output_type": "execute_result"
    },
    {
     "data": {
      "image/png": "[encoded data removed]",
      "text/plain": [
       "<Figure size 720x504 with 1 Axes>"
      ]
     },
     "metadata": {
      "needs_background": "light"
     },
     "output_type": "display_data"
    }
   ],
   "source": [
    "covid_user['bio'] = covid_user['bio'].fillna(\"\")\n",
    "\n",
    "covid_user[\"bio_dup\"] = covid_user['bio'].str.replace('[^\\w\\s]','')\n",
    "covid_user['bio_dup'] = covid_user['bio_dup'].str.lower()\n",
    "covid_user['bio_dup'] = covid_user['bio_dup'].replace(',','', regex=True)\n",
    "covid_user['bio_dup'] = covid_user['bio_dup'].replace('#','', regex=True)\n",
    "\n",
    "covid_user['tokenized_sents'] = covid_user.apply(lambda row: nltk.word_tokenize(row['bio_dup']), axis=1)\n",
    "\n",
    "stop = stopwords.words('english')\n",
    "\n",
    "covid_user['words'] = covid_user.tokenized_sents.apply(lambda x: [item for item in x if item not in stop])\n",
    "\n",
    "full_list = []  # list containing all words of all texts\n",
    "for elmnt in covid_user['words']:  # loop over lists in df\n",
    "    full_list += elmnt  # append elements of lists to full list\n",
    "\n",
    "val_counts = pd.Series(full_list).value_counts()\n",
    "val_counts = val_counts.reset_index()\n",
    "col = val_counts.columns[1]\n",
    "col1 = val_counts.columns[0]\n",
    "val_counts = val_counts.rename(columns={col: \"count\", col1: \"word\"})\n",
    "sub_val_counts = val_counts.head(20)\n",
    "sub_val_counts.plot.bar(x='word', y='count', rot=90)"
   ]
  },
  {
   "cell_type": "markdown",
   "metadata": {},
   "source": [
    "## Looking at Covid Tweets merged with Bots"
   ]
  },
  {
   "cell_type": "markdown",
   "metadata": {},
   "source": [
    "Looking at Classified value counts"
   ]
  },
  {
   "cell_type": "code",
   "execution_count": 415,
   "metadata": {},
   "outputs": [
    {
     "data": {
      "text/plain": [
       "0    13078\n",
       "1     2411\n",
       "Name: prediction, dtype: int64"
      ]
     },
     "execution_count": 415,
     "metadata": {},
     "output_type": "execute_result"
    }
   ],
   "source": [
    "covid_user_lab.prediction.value_counts()"
   ]
  },
  {
   "cell_type": "code",
   "execution_count": 418,
   "metadata": {},
   "outputs": [
    {
     "data": {
      "text/plain": [
       "Index(['status_id', 'user_id', 'created_at', 'screen_name', 'text', 'source',\n",
       "       'reply_to_status_id', 'reply_to_user_id', 'reply_to_screen_name',\n",
       "       'is_quote', 'is_retweet', 'favourites_count', 'retweet_count',\n",
       "       'country_code', 'place_full_name', 'place_type', 'followers_count',\n",
       "       'friends_count', 'account_lang', 'account_created_at', 'verified',\n",
       "       'lang'],\n",
       "      dtype='object')"
      ]
     },
     "execution_count": 418,
     "metadata": {},
     "output_type": "execute_result"
    }
   ],
   "source": [
    "covid_tweets.columns"
   ]
  },
  {
   "cell_type": "markdown",
   "metadata": {},
   "source": [
    "Merging with Tweets"
   ]
  },
  {
   "cell_type": "code",
   "execution_count": 419,
   "metadata": {},
   "outputs": [],
   "source": [
    "covid_user_lab = covid_user_lab.rename(columns={\"username\": \"screen_name\"})"
   ]
  },
  {
   "cell_type": "code",
   "execution_count": 421,
   "metadata": {},
   "outputs": [],
   "source": [
    "cov_lab_tweet = pd.merge(covid_user_lab, covid_tweets, on=\"screen_name\")"
   ]
  },
  {
   "cell_type": "markdown",
   "metadata": {},
   "source": [
    "Tweets made by Bot and Human accounts:"
   ]
  },
  {
   "cell_type": "code",
   "execution_count": 423,
   "metadata": {},
   "outputs": [
    {
     "data": {
      "text/plain": [
       "0    31540\n",
       "1     8074\n",
       "Name: prediction, dtype: int64"
      ]
     },
     "execution_count": 423,
     "metadata": {},
     "output_type": "execute_result"
    }
   ],
   "source": [
    "cov_lab_tweet.prediction.value_counts()"
   ]
  },
  {
   "cell_type": "code",
   "execution_count": 424,
   "metadata": {},
   "outputs": [],
   "source": [
    "cov_bot_tweets = cov_lab_tweet[cov_lab_tweet['prediction'] == 1]"
   ]
  },
  {
   "cell_type": "code",
   "execution_count": 428,
   "metadata": {},
   "outputs": [],
   "source": [
    "cov_bot_tweets = cov_bot_tweets[cov_bot_tweets['verified_x'] != 1]"
   ]
  },
  {
   "cell_type": "code",
   "execution_count": 454,
   "metadata": {},
   "outputs": [],
   "source": [
    "tweet_count = cov_bot_tweets.groupby('screen_name')['text'].count().sort_values(ascending=False).reset_index()\n",
    "tweet_count = tweet_count.head(20)"
   ]
  },
  {
   "cell_type": "code",
   "execution_count": 457,
   "metadata": {},
   "outputs": [
    {
     "data": {
      "text/plain": [
       "<matplotlib.axes._subplots.AxesSubplot at 0x187d02450>"
      ]
     },
     "execution_count": 457,
     "metadata": {},
     "output_type": "execute_result"
    },
    {
     "data": {
      "image/png": "[encoded data removed]",
      "text/plain": [
       "<Figure size 720x504 with 1 Axes>"
      ]
     },
     "metadata": {
      "needs_background": "light"
     },
     "output_type": "display_data"
    }
   ],
   "source": [
    "tweet_count.plot.bar(x='screen_name', y='text', rot=90)"
   ]
  },
  {
   "cell_type": "code",
   "execution_count": 471,
   "metadata": {},
   "outputs": [
    {
     "data": {
      "text/plain": [
       "<matplotlib.axes._subplots.AxesSubplot at 0x18f77af10>"
      ]
     },
     "execution_count": 471,
     "metadata": {},
     "output_type": "execute_result"
    },
    {
     "data": {
      "image/png": "[encoded data removed]",
      "text/plain": [
       "<Figure size 720x504 with 1 Axes>"
      ]
     },
     "metadata": {
      "needs_background": "light"
     },
     "output_type": "display_data"
    }
   ],
   "source": [
    "cov_bot_tweets['text'] = cov_bot_tweets['text'].fillna(\"\")\n",
    "\n",
    "cov_bot_tweets[\"text_dup\"] = cov_bot_tweets['text'].str.replace('[^\\w\\s]','')\n",
    "cov_bot_tweets['text_dup'] = cov_bot_tweets['text_dup'].str.lower()\n",
    "cov_bot_tweets['text_dup'] = cov_bot_tweets['text_dup'].replace(',','', regex=True)\n",
    "cov_bot_tweets['text_dup'] = cov_bot_tweets['text_dup'].replace('#','', regex=True)\n",
    "#cov_bot_tweets['text_dup'] = cov_bot_tweets['text_dup'].replace('covid19','', regex=True)\n",
    "#cov_bot_tweets['text_dup'] = cov_bot_tweets['text_dup'].replace('coronavirus','', regex=True)\n",
    "\n",
    "cov_bot_tweets['tokenized_sents'] = cov_bot_tweets.apply(lambda row: nltk.word_tokenize(row['text_dup']), axis=1)\n",
    "\n",
    "stop = stopwords.words('english')\n",
    "\n",
    "cov_bot_tweets['words'] = cov_bot_tweets['tokenized_sents'].apply(lambda x: [item for item in x if item not in stop])\n",
    "\n",
    "full_list = []  # list containing all words of all texts\n",
    "for elmnt in cov_bot_tweets['words']:  # loop over lists in df\n",
    "    full_list += elmnt  # append elements of lists to full list\n",
    "\n",
    "val_counts = pd.Series(full_list).value_counts()\n",
    "val_counts = val_counts.reset_index()\n",
    "col = val_counts.columns[1]\n",
    "col1 = val_counts.columns[0]\n",
    "val_counts = val_counts.rename(columns={col: \"count\", col1: \"word\"})\n",
    "sub_val_counts = val_counts.head(20)\n",
    "sub_val_counts.plot.bar(x='word', y='count', rot=90)"
   ]
  },
  {
   "cell_type": "markdown",
   "metadata": {},
   "source": [
    "Check to see if ANY of the tweets contain these domains: https://www.newsguardtech.com/coronavirus-misinformation-tracking-center/ *Word doc added to git*"
   ]
  },
  {
   "cell_type": "markdown",
   "metadata": {},
   "source": []
  },
  {
   "cell_type": "code",
   "execution_count": null,
   "metadata": {},
   "outputs": [],
   "source": []
  }
 ],
 "metadata": {
  "kernelspec": {
   "display_name": "Python 3",
   "language": "python",
   "name": "python3"
  },
  "language_info": {
   "codemirror_mode": {
    "name": "ipython",
    "version": 3
   },
   "file_extension": ".py",
   "mimetype": "text/x-python",
   "name": "python",
   "nbconvert_exporter": "python",
   "pygments_lexer": "ipython3",
   "version": "3.7.4"
  }
 },
 "nbformat": 4,
 "nbformat_minor": 4
}
