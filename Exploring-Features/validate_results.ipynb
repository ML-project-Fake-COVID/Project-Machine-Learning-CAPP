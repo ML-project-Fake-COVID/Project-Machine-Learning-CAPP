{
 "cells": [
  {
   "cell_type": "markdown",
   "metadata": {},
   "source": [
    "# Validate Results\n",
    "Yue, Maca, Rukhshan\n",
    "\n",
    "Our best random forsest model seems to classfiy less active accounts as bots. Although the precision score is very high, we want to check whether they tend to misclassify less active human accounts as bots. "
   ]
  },
  {
   "cell_type": "markdown",
   "metadata": {},
   "source": [
    "## 1. Prepare Dataset"
   ]
  },
  {
   "cell_type": "code",
   "execution_count": 1,
   "metadata": {},
   "outputs": [
    {
     "output_type": "execute_result",
     "data": {
      "text/plain": "   index  bot_x  label_predicted                      created_at  \\\n0  21228      1                1        Thu Oct 18 23:42:42 2018   \n1  48490      0                0        Tue Jun 19 20:13:50 2012   \n2  29369      1                1        Sat Oct 27 08:55:12 2018   \n3  21131      1                1        Tue Oct 16 09:54:02 2018   \n4  52764      0                0  Tue May 13 06:15:17 +0000 2014   \n\n                  probe_timestamp  \n0        Wed Oct 24 18:47:39 2018  \n1        Tue Nov 06 11:11:27 2018  \n2        Sun Oct 28 01:17:31 2018  \n3        Tue Oct 16 10:02:32 2018  \n4  Mon Jan 21 01:00:06 +0000 2019  ",
      "text/html": "<div>\n<style scoped>\n    .dataframe tbody tr th:only-of-type {\n        vertical-align: middle;\n    }\n\n    .dataframe tbody tr th {\n        vertical-align: top;\n    }\n\n    .dataframe thead th {\n        text-align: right;\n    }\n</style>\n<table border=\"1\" class=\"dataframe\">\n  <thead>\n    <tr style=\"text-align: right;\">\n      <th></th>\n      <th>index</th>\n      <th>bot_x</th>\n      <th>label_predicted</th>\n      <th>created_at</th>\n      <th>probe_timestamp</th>\n    </tr>\n  </thead>\n  <tbody>\n    <tr>\n      <th>0</th>\n      <td>21228</td>\n      <td>1</td>\n      <td>1</td>\n      <td>Thu Oct 18 23:42:42 2018</td>\n      <td>Wed Oct 24 18:47:39 2018</td>\n    </tr>\n    <tr>\n      <th>1</th>\n      <td>48490</td>\n      <td>0</td>\n      <td>0</td>\n      <td>Tue Jun 19 20:13:50 2012</td>\n      <td>Tue Nov 06 11:11:27 2018</td>\n    </tr>\n    <tr>\n      <th>2</th>\n      <td>29369</td>\n      <td>1</td>\n      <td>1</td>\n      <td>Sat Oct 27 08:55:12 2018</td>\n      <td>Sun Oct 28 01:17:31 2018</td>\n    </tr>\n    <tr>\n      <th>3</th>\n      <td>21131</td>\n      <td>1</td>\n      <td>1</td>\n      <td>Tue Oct 16 09:54:02 2018</td>\n      <td>Tue Oct 16 10:02:32 2018</td>\n    </tr>\n    <tr>\n      <th>4</th>\n      <td>52764</td>\n      <td>0</td>\n      <td>0</td>\n      <td>Tue May 13 06:15:17 +0000 2014</td>\n      <td>Mon Jan 21 01:00:06 +0000 2019</td>\n    </tr>\n  </tbody>\n</table>\n</div>"
     },
     "metadata": {},
     "execution_count": 1
    }
   ],
   "source": [
    "import pandas as pd\n",
    "import numpy as np\n",
    "import warnings\n",
    "warnings.filterwarnings('ignore')\n",
    "\n",
    "df_time = pd.read_csv(\"../Exploring-Features/created_time_accounts_test.csv\")\n",
    "df_time.head()"
   ]
  },
  {
   "cell_type": "code",
   "execution_count": 2,
   "metadata": {},
   "outputs": [
    {
     "output_type": "execute_result",
     "data": {
      "text/plain": "   index_original    bot                      created_at  \\\n0               0  human  Sun Feb 15 14:56:36 +0000 2015   \n1               1    bot  Fri Oct 14 08:00:55 +0000 2011   \n2               2  human  Sat Dec 26 13:55:00 +0000 2015   \n3               3  human  Sun May 22 14:53:38 +0000 2016   \n4               4    bot  Sun Jun 24 20:09:50 +0000 2018   \n\n                  probe_timestamp  \n0  Thu May 16 13:57:12 +0000 2019  \n1  Tue Apr 16 13:51:17 +0000 2019  \n2  Sun May 12 17:01:48 +0000 2019  \n3  Fri May 17 16:59:10 +0000 2019  \n4  Wed Feb 13 01:56:38 +0000 2019  ",
      "text/html": "<div>\n<style scoped>\n    .dataframe tbody tr th:only-of-type {\n        vertical-align: middle;\n    }\n\n    .dataframe tbody tr th {\n        vertical-align: top;\n    }\n\n    .dataframe thead th {\n        text-align: right;\n    }\n</style>\n<table border=\"1\" class=\"dataframe\">\n  <thead>\n    <tr style=\"text-align: right;\">\n      <th></th>\n      <th>index_original</th>\n      <th>bot</th>\n      <th>created_at</th>\n      <th>probe_timestamp</th>\n    </tr>\n  </thead>\n  <tbody>\n    <tr>\n      <th>0</th>\n      <td>0</td>\n      <td>human</td>\n      <td>Sun Feb 15 14:56:36 +0000 2015</td>\n      <td>Thu May 16 13:57:12 +0000 2019</td>\n    </tr>\n    <tr>\n      <th>1</th>\n      <td>1</td>\n      <td>bot</td>\n      <td>Fri Oct 14 08:00:55 +0000 2011</td>\n      <td>Tue Apr 16 13:51:17 +0000 2019</td>\n    </tr>\n    <tr>\n      <th>2</th>\n      <td>2</td>\n      <td>human</td>\n      <td>Sat Dec 26 13:55:00 +0000 2015</td>\n      <td>Sun May 12 17:01:48 +0000 2019</td>\n    </tr>\n    <tr>\n      <th>3</th>\n      <td>3</td>\n      <td>human</td>\n      <td>Sun May 22 14:53:38 +0000 2016</td>\n      <td>Fri May 17 16:59:10 +0000 2019</td>\n    </tr>\n    <tr>\n      <th>4</th>\n      <td>4</td>\n      <td>bot</td>\n      <td>Sun Jun 24 20:09:50 +0000 2018</td>\n      <td>Wed Feb 13 01:56:38 +0000 2019</td>\n    </tr>\n  </tbody>\n</table>\n</div>"
     },
     "metadata": {},
     "execution_count": 2
    }
   ],
   "source": [
    "df_consolidated = pd.read_csv(\"../data_consolidation/consolidated_version2.csv\")\n",
    "df_consolidated['index_original'] = df_consolidated.index\n",
    "df_subset =  df_consolidated[[ \"index_original\",'bot', 'created_at', 'probe_timestamp']].copy()\n",
    "df_subset.head()"
   ]
  },
  {
   "cell_type": "code",
   "execution_count": 3,
   "metadata": {},
   "outputs": [
    {
     "output_type": "execute_result",
     "data": {
      "text/plain": "   index  bot_x  label_predicted                    created_at_x  \\\n0  21228      1                1        Thu Oct 18 23:42:42 2018   \n1  48490      0                0        Tue Jun 19 20:13:50 2012   \n2  29369      1                1        Sat Oct 27 08:55:12 2018   \n3  21131      1                1        Tue Oct 16 09:54:02 2018   \n4  52764      0                0  Tue May 13 06:15:17 +0000 2014   \n\n                probe_timestamp_x  index_original    bot  \\\n0        Wed Oct 24 18:47:39 2018           21228    bot   \n1        Tue Nov 06 11:11:27 2018           48490  human   \n2        Sun Oct 28 01:17:31 2018           29369    bot   \n3        Tue Oct 16 10:02:32 2018           21131    bot   \n4  Mon Jan 21 01:00:06 +0000 2019           52764  human   \n\n                     created_at_y               probe_timestamp_y  \n0        Thu Oct 18 23:42:42 2018        Wed Oct 24 18:47:39 2018  \n1        Tue Jun 19 20:13:50 2012        Tue Nov 06 11:11:27 2018  \n2        Sat Oct 27 08:55:12 2018        Sun Oct 28 01:17:31 2018  \n3        Tue Oct 16 09:54:02 2018        Tue Oct 16 10:02:32 2018  \n4  Tue May 13 06:15:17 +0000 2014  Mon Jan 21 01:00:06 +0000 2019  ",
      "text/html": "<div>\n<style scoped>\n    .dataframe tbody tr th:only-of-type {\n        vertical-align: middle;\n    }\n\n    .dataframe tbody tr th {\n        vertical-align: top;\n    }\n\n    .dataframe thead th {\n        text-align: right;\n    }\n</style>\n<table border=\"1\" class=\"dataframe\">\n  <thead>\n    <tr style=\"text-align: right;\">\n      <th></th>\n      <th>index</th>\n      <th>bot_x</th>\n      <th>label_predicted</th>\n      <th>created_at_x</th>\n      <th>probe_timestamp_x</th>\n      <th>index_original</th>\n      <th>bot</th>\n      <th>created_at_y</th>\n      <th>probe_timestamp_y</th>\n    </tr>\n  </thead>\n  <tbody>\n    <tr>\n      <th>0</th>\n      <td>21228</td>\n      <td>1</td>\n      <td>1</td>\n      <td>Thu Oct 18 23:42:42 2018</td>\n      <td>Wed Oct 24 18:47:39 2018</td>\n      <td>21228</td>\n      <td>bot</td>\n      <td>Thu Oct 18 23:42:42 2018</td>\n      <td>Wed Oct 24 18:47:39 2018</td>\n    </tr>\n    <tr>\n      <th>1</th>\n      <td>48490</td>\n      <td>0</td>\n      <td>0</td>\n      <td>Tue Jun 19 20:13:50 2012</td>\n      <td>Tue Nov 06 11:11:27 2018</td>\n      <td>48490</td>\n      <td>human</td>\n      <td>Tue Jun 19 20:13:50 2012</td>\n      <td>Tue Nov 06 11:11:27 2018</td>\n    </tr>\n    <tr>\n      <th>2</th>\n      <td>29369</td>\n      <td>1</td>\n      <td>1</td>\n      <td>Sat Oct 27 08:55:12 2018</td>\n      <td>Sun Oct 28 01:17:31 2018</td>\n      <td>29369</td>\n      <td>bot</td>\n      <td>Sat Oct 27 08:55:12 2018</td>\n      <td>Sun Oct 28 01:17:31 2018</td>\n    </tr>\n    <tr>\n      <th>3</th>\n      <td>21131</td>\n      <td>1</td>\n      <td>1</td>\n      <td>Tue Oct 16 09:54:02 2018</td>\n      <td>Tue Oct 16 10:02:32 2018</td>\n      <td>21131</td>\n      <td>bot</td>\n      <td>Tue Oct 16 09:54:02 2018</td>\n      <td>Tue Oct 16 10:02:32 2018</td>\n    </tr>\n    <tr>\n      <th>4</th>\n      <td>52764</td>\n      <td>0</td>\n      <td>0</td>\n      <td>Tue May 13 06:15:17 +0000 2014</td>\n      <td>Mon Jan 21 01:00:06 +0000 2019</td>\n      <td>52764</td>\n      <td>human</td>\n      <td>Tue May 13 06:15:17 +0000 2014</td>\n      <td>Mon Jan 21 01:00:06 +0000 2019</td>\n    </tr>\n  </tbody>\n</table>\n</div>"
     },
     "metadata": {},
     "execution_count": 3
    }
   ],
   "source": [
    "# Join the two datasets together. \n",
    "merged_df = pd.merge(left=df_time, right=df_subset, how='left', left_on='index', right_on='index_original')\n",
    "merged_df.head()"
   ]
  },
  {
   "cell_type": "code",
   "execution_count": 8,
   "metadata": {
    "scrolled": true
   },
   "outputs": [
    {
     "output_type": "execute_result",
     "data": {
      "text/plain": "   index  bot_x  label_predicted              created_at_x  \\\n0  21228      1                1 2018-10-18 16:42:42-07:00   \n1  48490      0                0 2012-06-19 13:13:50-07:00   \n2  29369      1                1 2018-10-27 01:55:12-07:00   \n3  21131      1                1 2018-10-16 02:54:02-07:00   \n4  52764      0                0 2014-05-12 23:15:17-07:00   \n\n          probe_timestamp_x  index_original    bot  \\\n0 2018-10-24 11:47:39-07:00           21228    bot   \n1 2018-11-06 04:11:27-07:00           48490  human   \n2 2018-10-27 18:17:31-07:00           29369    bot   \n3 2018-10-16 03:02:32-07:00           21131    bot   \n4 2019-01-20 18:00:06-07:00           52764  human   \n\n                     created_at_y               probe_timestamp_y  \n0        Thu Oct 18 23:42:42 2018        Wed Oct 24 18:47:39 2018  \n1        Tue Jun 19 20:13:50 2012        Tue Nov 06 11:11:27 2018  \n2        Sat Oct 27 08:55:12 2018        Sun Oct 28 01:17:31 2018  \n3        Tue Oct 16 09:54:02 2018        Tue Oct 16 10:02:32 2018  \n4  Tue May 13 06:15:17 +0000 2014  Mon Jan 21 01:00:06 +0000 2019  ",
      "text/html": "<div>\n<style scoped>\n    .dataframe tbody tr th:only-of-type {\n        vertical-align: middle;\n    }\n\n    .dataframe tbody tr th {\n        vertical-align: top;\n    }\n\n    .dataframe thead th {\n        text-align: right;\n    }\n</style>\n<table border=\"1\" class=\"dataframe\">\n  <thead>\n    <tr style=\"text-align: right;\">\n      <th></th>\n      <th>index</th>\n      <th>bot_x</th>\n      <th>label_predicted</th>\n      <th>created_at_x</th>\n      <th>probe_timestamp_x</th>\n      <th>index_original</th>\n      <th>bot</th>\n      <th>created_at_y</th>\n      <th>probe_timestamp_y</th>\n    </tr>\n  </thead>\n  <tbody>\n    <tr>\n      <th>0</th>\n      <td>21228</td>\n      <td>1</td>\n      <td>1</td>\n      <td>2018-10-18 16:42:42-07:00</td>\n      <td>2018-10-24 11:47:39-07:00</td>\n      <td>21228</td>\n      <td>bot</td>\n      <td>Thu Oct 18 23:42:42 2018</td>\n      <td>Wed Oct 24 18:47:39 2018</td>\n    </tr>\n    <tr>\n      <th>1</th>\n      <td>48490</td>\n      <td>0</td>\n      <td>0</td>\n      <td>2012-06-19 13:13:50-07:00</td>\n      <td>2018-11-06 04:11:27-07:00</td>\n      <td>48490</td>\n      <td>human</td>\n      <td>Tue Jun 19 20:13:50 2012</td>\n      <td>Tue Nov 06 11:11:27 2018</td>\n    </tr>\n    <tr>\n      <th>2</th>\n      <td>29369</td>\n      <td>1</td>\n      <td>1</td>\n      <td>2018-10-27 01:55:12-07:00</td>\n      <td>2018-10-27 18:17:31-07:00</td>\n      <td>29369</td>\n      <td>bot</td>\n      <td>Sat Oct 27 08:55:12 2018</td>\n      <td>Sun Oct 28 01:17:31 2018</td>\n    </tr>\n    <tr>\n      <th>3</th>\n      <td>21131</td>\n      <td>1</td>\n      <td>1</td>\n      <td>2018-10-16 02:54:02-07:00</td>\n      <td>2018-10-16 03:02:32-07:00</td>\n      <td>21131</td>\n      <td>bot</td>\n      <td>Tue Oct 16 09:54:02 2018</td>\n      <td>Tue Oct 16 10:02:32 2018</td>\n    </tr>\n    <tr>\n      <th>4</th>\n      <td>52764</td>\n      <td>0</td>\n      <td>0</td>\n      <td>2014-05-12 23:15:17-07:00</td>\n      <td>2019-01-20 18:00:06-07:00</td>\n      <td>52764</td>\n      <td>human</td>\n      <td>Tue May 13 06:15:17 +0000 2014</td>\n      <td>Mon Jan 21 01:00:06 +0000 2019</td>\n    </tr>\n  </tbody>\n</table>\n</div>"
     },
     "metadata": {},
     "execution_count": 8
    }
   ],
   "source": [
    "#Convert the time columns into datetime objects\n",
    "merged_df[\"created_at_x\"] = pd.to_datetime(merged_df[\"created_at_x\"],utc=True)\n",
    "merged_df[\"created_at_x\"] = merged_df.created_at_x.dt.tz_convert('MST')\n",
    "merged_df[\"probe_timestamp_x\"] = pd.to_datetime(merged_df[\"probe_timestamp_x\"],utc=True)\n",
    "merged_df[\"probe_timestamp_x\"] = merged_df.probe_timestamp_x.dt.tz_convert('MST')\n",
    "\n",
    "merged_df.head()"
   ]
  },
  {
   "cell_type": "code",
   "execution_count": 10,
   "metadata": {},
   "outputs": [
    {
     "output_type": "execute_result",
     "data": {
      "text/plain": "   index  bot_x  label_predicted              created_at_x  \\\n0  21228      1                1 2018-10-18 16:42:42-07:00   \n1  48490      0                0 2012-06-19 13:13:50-07:00   \n2  29369      1                1 2018-10-27 01:55:12-07:00   \n3  21131      1                1 2018-10-16 02:54:02-07:00   \n4  52764      0                0 2014-05-12 23:15:17-07:00   \n\n          probe_timestamp_x  index_original    bot  \\\n0 2018-10-24 11:47:39-07:00           21228    bot   \n1 2018-11-06 04:11:27-07:00           48490  human   \n2 2018-10-27 18:17:31-07:00           29369    bot   \n3 2018-10-16 03:02:32-07:00           21131    bot   \n4 2019-01-20 18:00:06-07:00           52764  human   \n\n                     created_at_y               probe_timestamp_y  time_diff  \n0        Thu Oct 18 23:42:42 2018        Wed Oct 24 18:47:39 2018        5.0  \n1        Tue Jun 19 20:13:50 2012        Tue Nov 06 11:11:27 2018     2330.0  \n2        Sat Oct 27 08:55:12 2018        Sun Oct 28 01:17:31 2018        0.0  \n3        Tue Oct 16 09:54:02 2018        Tue Oct 16 10:02:32 2018        0.0  \n4  Tue May 13 06:15:17 +0000 2014  Mon Jan 21 01:00:06 +0000 2019     1713.0  ",
      "text/html": "<div>\n<style scoped>\n    .dataframe tbody tr th:only-of-type {\n        vertical-align: middle;\n    }\n\n    .dataframe tbody tr th {\n        vertical-align: top;\n    }\n\n    .dataframe thead th {\n        text-align: right;\n    }\n</style>\n<table border=\"1\" class=\"dataframe\">\n  <thead>\n    <tr style=\"text-align: right;\">\n      <th></th>\n      <th>index</th>\n      <th>bot_x</th>\n      <th>label_predicted</th>\n      <th>created_at_x</th>\n      <th>probe_timestamp_x</th>\n      <th>index_original</th>\n      <th>bot</th>\n      <th>created_at_y</th>\n      <th>probe_timestamp_y</th>\n      <th>time_diff</th>\n    </tr>\n  </thead>\n  <tbody>\n    <tr>\n      <th>0</th>\n      <td>21228</td>\n      <td>1</td>\n      <td>1</td>\n      <td>2018-10-18 16:42:42-07:00</td>\n      <td>2018-10-24 11:47:39-07:00</td>\n      <td>21228</td>\n      <td>bot</td>\n      <td>Thu Oct 18 23:42:42 2018</td>\n      <td>Wed Oct 24 18:47:39 2018</td>\n      <td>5.0</td>\n    </tr>\n    <tr>\n      <th>1</th>\n      <td>48490</td>\n      <td>0</td>\n      <td>0</td>\n      <td>2012-06-19 13:13:50-07:00</td>\n      <td>2018-11-06 04:11:27-07:00</td>\n      <td>48490</td>\n      <td>human</td>\n      <td>Tue Jun 19 20:13:50 2012</td>\n      <td>Tue Nov 06 11:11:27 2018</td>\n      <td>2330.0</td>\n    </tr>\n    <tr>\n      <th>2</th>\n      <td>29369</td>\n      <td>1</td>\n      <td>1</td>\n      <td>2018-10-27 01:55:12-07:00</td>\n      <td>2018-10-27 18:17:31-07:00</td>\n      <td>29369</td>\n      <td>bot</td>\n      <td>Sat Oct 27 08:55:12 2018</td>\n      <td>Sun Oct 28 01:17:31 2018</td>\n      <td>0.0</td>\n    </tr>\n    <tr>\n      <th>3</th>\n      <td>21131</td>\n      <td>1</td>\n      <td>1</td>\n      <td>2018-10-16 02:54:02-07:00</td>\n      <td>2018-10-16 03:02:32-07:00</td>\n      <td>21131</td>\n      <td>bot</td>\n      <td>Tue Oct 16 09:54:02 2018</td>\n      <td>Tue Oct 16 10:02:32 2018</td>\n      <td>0.0</td>\n    </tr>\n    <tr>\n      <th>4</th>\n      <td>52764</td>\n      <td>0</td>\n      <td>0</td>\n      <td>2014-05-12 23:15:17-07:00</td>\n      <td>2019-01-20 18:00:06-07:00</td>\n      <td>52764</td>\n      <td>human</td>\n      <td>Tue May 13 06:15:17 +0000 2014</td>\n      <td>Mon Jan 21 01:00:06 +0000 2019</td>\n      <td>1713.0</td>\n    </tr>\n  </tbody>\n</table>\n</div>"
     },
     "metadata": {},
     "execution_count": 10
    }
   ],
   "source": [
    "# Calculate time difference\n",
    "merged_df['time_diff'] = (merged_df['probe_timestamp_x']-merged_df['created_at_x']).astype('timedelta64[D]')\n",
    "merged_df.head()"
   ]
  },
  {
   "cell_type": "code",
   "execution_count": 11,
   "metadata": {},
   "outputs": [
    {
     "output_type": "execute_result",
     "data": {
      "text/plain": "   index  bot_x  label_predicted              created_at_x  \\\n0  21228      1                1 2018-10-18 16:42:42-07:00   \n1  48490      0                0 2012-06-19 13:13:50-07:00   \n2  29369      1                1 2018-10-27 01:55:12-07:00   \n3  21131      1                1 2018-10-16 02:54:02-07:00   \n4  52764      0                0 2014-05-12 23:15:17-07:00   \n\n          probe_timestamp_x  index_original    bot  \\\n0 2018-10-24 11:47:39-07:00           21228    bot   \n1 2018-11-06 04:11:27-07:00           48490  human   \n2 2018-10-27 18:17:31-07:00           29369    bot   \n3 2018-10-16 03:02:32-07:00           21131    bot   \n4 2019-01-20 18:00:06-07:00           52764  human   \n\n                     created_at_y               probe_timestamp_y  time_diff  \\\n0        Thu Oct 18 23:42:42 2018        Wed Oct 24 18:47:39 2018        5.0   \n1        Tue Jun 19 20:13:50 2012        Tue Nov 06 11:11:27 2018     2330.0   \n2        Sat Oct 27 08:55:12 2018        Sun Oct 28 01:17:31 2018        0.0   \n3        Tue Oct 16 09:54:02 2018        Tue Oct 16 10:02:32 2018        0.0   \n4  Tue May 13 06:15:17 +0000 2014  Mon Jan 21 01:00:06 +0000 2019     1713.0   \n\n   bot_actual  \n0         1.0  \n1         0.0  \n2         1.0  \n3         1.0  \n4         0.0  ",
      "text/html": "<div>\n<style scoped>\n    .dataframe tbody tr th:only-of-type {\n        vertical-align: middle;\n    }\n\n    .dataframe tbody tr th {\n        vertical-align: top;\n    }\n\n    .dataframe thead th {\n        text-align: right;\n    }\n</style>\n<table border=\"1\" class=\"dataframe\">\n  <thead>\n    <tr style=\"text-align: right;\">\n      <th></th>\n      <th>index</th>\n      <th>bot_x</th>\n      <th>label_predicted</th>\n      <th>created_at_x</th>\n      <th>probe_timestamp_x</th>\n      <th>index_original</th>\n      <th>bot</th>\n      <th>created_at_y</th>\n      <th>probe_timestamp_y</th>\n      <th>time_diff</th>\n      <th>bot_actual</th>\n    </tr>\n  </thead>\n  <tbody>\n    <tr>\n      <th>0</th>\n      <td>21228</td>\n      <td>1</td>\n      <td>1</td>\n      <td>2018-10-18 16:42:42-07:00</td>\n      <td>2018-10-24 11:47:39-07:00</td>\n      <td>21228</td>\n      <td>bot</td>\n      <td>Thu Oct 18 23:42:42 2018</td>\n      <td>Wed Oct 24 18:47:39 2018</td>\n      <td>5.0</td>\n      <td>1.0</td>\n    </tr>\n    <tr>\n      <th>1</th>\n      <td>48490</td>\n      <td>0</td>\n      <td>0</td>\n      <td>2012-06-19 13:13:50-07:00</td>\n      <td>2018-11-06 04:11:27-07:00</td>\n      <td>48490</td>\n      <td>human</td>\n      <td>Tue Jun 19 20:13:50 2012</td>\n      <td>Tue Nov 06 11:11:27 2018</td>\n      <td>2330.0</td>\n      <td>0.0</td>\n    </tr>\n    <tr>\n      <th>2</th>\n      <td>29369</td>\n      <td>1</td>\n      <td>1</td>\n      <td>2018-10-27 01:55:12-07:00</td>\n      <td>2018-10-27 18:17:31-07:00</td>\n      <td>29369</td>\n      <td>bot</td>\n      <td>Sat Oct 27 08:55:12 2018</td>\n      <td>Sun Oct 28 01:17:31 2018</td>\n      <td>0.0</td>\n      <td>1.0</td>\n    </tr>\n    <tr>\n      <th>3</th>\n      <td>21131</td>\n      <td>1</td>\n      <td>1</td>\n      <td>2018-10-16 02:54:02-07:00</td>\n      <td>2018-10-16 03:02:32-07:00</td>\n      <td>21131</td>\n      <td>bot</td>\n      <td>Tue Oct 16 09:54:02 2018</td>\n      <td>Tue Oct 16 10:02:32 2018</td>\n      <td>0.0</td>\n      <td>1.0</td>\n    </tr>\n    <tr>\n      <th>4</th>\n      <td>52764</td>\n      <td>0</td>\n      <td>0</td>\n      <td>2014-05-12 23:15:17-07:00</td>\n      <td>2019-01-20 18:00:06-07:00</td>\n      <td>52764</td>\n      <td>human</td>\n      <td>Tue May 13 06:15:17 +0000 2014</td>\n      <td>Mon Jan 21 01:00:06 +0000 2019</td>\n      <td>1713.0</td>\n      <td>0.0</td>\n    </tr>\n  </tbody>\n</table>\n</div>"
     },
     "metadata": {},
     "execution_count": 11
    }
   ],
   "source": [
    "# Convert bot column to a binary column with value 1 and 0\n",
    "merged_df.loc[merged_df['bot']==\"bot\",'bot_actual'] = 1\n",
    "merged_df.loc[merged_df['bot']==\"human\",'bot_actual'] = 0\n",
    "merged_df.head()"
   ]
  },
  {
   "cell_type": "code",
   "execution_count": 30,
   "metadata": {},
   "outputs": [
    {
     "output_type": "execute_result",
     "data": {
      "text/plain": "    index  bot_x  label_predicted              created_at_x  \\\n0   21228      1                1 2018-10-18 16:42:42-07:00   \n2   29369      1                1 2018-10-27 01:55:12-07:00   \n3   21131      1                1 2018-10-16 02:54:02-07:00   \n5   37484      1                1 2018-10-29 08:23:03-07:00   \n10   3294      1                1 2018-12-09 09:10:24-07:00   \n\n           probe_timestamp_x  index_original  bot              created_at_y  \\\n0  2018-10-24 11:47:39-07:00           21228  bot  Thu Oct 18 23:42:42 2018   \n2  2018-10-27 18:17:31-07:00           29369  bot  Sat Oct 27 08:55:12 2018   \n3  2018-10-16 03:02:32-07:00           21131  bot  Tue Oct 16 09:54:02 2018   \n5  2018-11-07 14:28:36-07:00           37484  bot  Mon Oct 29 15:23:03 2018   \n10 2018-12-09 09:38:46-07:00            3294  bot  Sun Dec 09 16:10:24 2018   \n\n           probe_timestamp_y  time_diff  bot_actual  \n0   Wed Oct 24 18:47:39 2018        5.0         1.0  \n2   Sun Oct 28 01:17:31 2018        0.0         1.0  \n3   Tue Oct 16 10:02:32 2018        0.0         1.0  \n5   Wed Nov 07 21:28:36 2018        9.0         1.0  \n10  Sun Dec 09 16:38:46 2018        0.0         1.0  ",
      "text/html": "<div>\n<style scoped>\n    .dataframe tbody tr th:only-of-type {\n        vertical-align: middle;\n    }\n\n    .dataframe tbody tr th {\n        vertical-align: top;\n    }\n\n    .dataframe thead th {\n        text-align: right;\n    }\n</style>\n<table border=\"1\" class=\"dataframe\">\n  <thead>\n    <tr style=\"text-align: right;\">\n      <th></th>\n      <th>index</th>\n      <th>bot_x</th>\n      <th>label_predicted</th>\n      <th>created_at_x</th>\n      <th>probe_timestamp_x</th>\n      <th>index_original</th>\n      <th>bot</th>\n      <th>created_at_y</th>\n      <th>probe_timestamp_y</th>\n      <th>time_diff</th>\n      <th>bot_actual</th>\n    </tr>\n  </thead>\n  <tbody>\n    <tr>\n      <th>0</th>\n      <td>21228</td>\n      <td>1</td>\n      <td>1</td>\n      <td>2018-10-18 16:42:42-07:00</td>\n      <td>2018-10-24 11:47:39-07:00</td>\n      <td>21228</td>\n      <td>bot</td>\n      <td>Thu Oct 18 23:42:42 2018</td>\n      <td>Wed Oct 24 18:47:39 2018</td>\n      <td>5.0</td>\n      <td>1.0</td>\n    </tr>\n    <tr>\n      <th>2</th>\n      <td>29369</td>\n      <td>1</td>\n      <td>1</td>\n      <td>2018-10-27 01:55:12-07:00</td>\n      <td>2018-10-27 18:17:31-07:00</td>\n      <td>29369</td>\n      <td>bot</td>\n      <td>Sat Oct 27 08:55:12 2018</td>\n      <td>Sun Oct 28 01:17:31 2018</td>\n      <td>0.0</td>\n      <td>1.0</td>\n    </tr>\n    <tr>\n      <th>3</th>\n      <td>21131</td>\n      <td>1</td>\n      <td>1</td>\n      <td>2018-10-16 02:54:02-07:00</td>\n      <td>2018-10-16 03:02:32-07:00</td>\n      <td>21131</td>\n      <td>bot</td>\n      <td>Tue Oct 16 09:54:02 2018</td>\n      <td>Tue Oct 16 10:02:32 2018</td>\n      <td>0.0</td>\n      <td>1.0</td>\n    </tr>\n    <tr>\n      <th>5</th>\n      <td>37484</td>\n      <td>1</td>\n      <td>1</td>\n      <td>2018-10-29 08:23:03-07:00</td>\n      <td>2018-11-07 14:28:36-07:00</td>\n      <td>37484</td>\n      <td>bot</td>\n      <td>Mon Oct 29 15:23:03 2018</td>\n      <td>Wed Nov 07 21:28:36 2018</td>\n      <td>9.0</td>\n      <td>1.0</td>\n    </tr>\n    <tr>\n      <th>10</th>\n      <td>3294</td>\n      <td>1</td>\n      <td>1</td>\n      <td>2018-12-09 09:10:24-07:00</td>\n      <td>2018-12-09 09:38:46-07:00</td>\n      <td>3294</td>\n      <td>bot</td>\n      <td>Sun Dec 09 16:10:24 2018</td>\n      <td>Sun Dec 09 16:38:46 2018</td>\n      <td>0.0</td>\n      <td>1.0</td>\n    </tr>\n  </tbody>\n</table>\n</div>"
     },
     "metadata": {},
     "execution_count": 30
    }
   ],
   "source": [
    "#Select accounts only created for a few days\n",
    "df_five_days = merged_df[merged_df[\"time_diff\"]<=90]\n",
    "df_five_days.head()"
   ]
  },
  {
   "cell_type": "markdown",
   "metadata": {},
   "source": [
    "## 2. Analyze"
   ]
  },
  {
   "cell_type": "code",
   "execution_count": 31,
   "metadata": {},
   "outputs": [
    {
     "output_type": "stream",
     "name": "stdout",
     "text": "Predicted   0     1\nActual             \n0.0        10    38\n1.0        67  7078\n"
    }
   ],
   "source": [
    "df_matrix = pd.DataFrame(df_five_days, columns=['bot_actual','label_predicted'])\n",
    "confusion_matrix = pd.crosstab(df_matrix['bot_actual'], df_matrix['label_predicted'], rownames=['Actual'], colnames=['Predicted'])\n",
    "print (confusion_matrix)"
   ]
  }
 ],
 "metadata": {
  "kernelspec": {
   "display_name": "Python 3",
   "language": "python",
   "name": "python3"
  },
  "language_info": {
   "codemirror_mode": {
    "name": "ipython",
    "version": 3
   },
   "file_extension": ".py",
   "mimetype": "text/x-python",
   "name": "python",
   "nbconvert_exporter": "python",
   "pygments_lexer": "ipython3",
   "version": "3.7.4-final"
  }
 },
 "nbformat": 4,
 "nbformat_minor": 4
}